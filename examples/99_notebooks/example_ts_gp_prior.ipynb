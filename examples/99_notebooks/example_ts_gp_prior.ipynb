{
 "cells": [
  {
   "cell_type": "code",
   "execution_count": null,
   "metadata": {},
   "outputs": [],
   "source": [
    "%matplotlib inline\n",
    "\n",
    "import numpy as np\n",
    "import os\n",
    "import matplotlib.pyplot as plt\n",
    "\n",
    "from bayeso import gp\n",
    "from bayeso import covariance\n",
    "from bayeso.utils import utils_covariance"
   ]
  },
  {
   "cell_type": "code",
   "execution_count": null,
   "metadata": {},
   "outputs": [],
   "source": [
    "num_points = 1000\n",
    "str_cov = 'se'\n",
    "int_init = 1\n",
    "int_iter = 50\n",
    "int_ts = 100\n",
    "\n",
    "list_Y_min = []\n",
    "\n",
    "X = np.expand_dims(np.linspace(-5, 5, num_points), axis=1)\n",
    "mu = np.zeros(num_points)\n",
    "hyps = utils_covariance.get_hyps(str_cov, 1)\n",
    "Sigma = covariance.cov_main(str_cov, X, X, hyps, True)"
   ]
  },
  {
   "cell_type": "code",
   "execution_count": null,
   "metadata": {},
   "outputs": [],
   "source": [
    "for ind_ts in range(0, int_ts):\n",
    "    print('TS:', ind_ts + 1, 'iteration')\n",
    "    Y = gp.sample_functions(mu, Sigma, num_samples=1)[0]\n",
    "\n",
    "    ind_init = np.argmin(Y)\n",
    "    bx_min = X[ind_init]\n",
    "    y_min = Y[ind_init]\n",
    "    \n",
    "    ind_random = np.random.choice(num_points)\n",
    "\n",
    "    X_ = np.expand_dims(X[ind_random], axis=0)\n",
    "    Y_ = np.expand_dims(np.expand_dims(Y[ind_random], axis=0), axis=1)\n",
    "\n",
    "    for ind_iter in range(0, int_iter):\n",
    "        print(ind_iter + 1, 'iteration')\n",
    "\n",
    "        mu_, sigma_, Sigma_ = gp.predict_optimized(X_, Y_, X, str_cov=str_cov)\n",
    "        ind_ = np.argmin(gp.sample_functions(np.squeeze(mu_, axis=1), Sigma_, num_samples=1)[0])\n",
    "\n",
    "        X_ = np.concatenate([X_, [X[ind_]]], axis=0)\n",
    "        Y_ = np.concatenate([Y_, [[Y[ind_]]]], axis=0)\n",
    "        \n",
    "    list_Y_min.append(Y_ - y_min)\n",
    "\n",
    "Ys = np.array(list_Y_min)\n",
    "Ys = np.squeeze(Ys, axis=2)\n",
    "print(Ys.shape)"
   ]
  },
  {
   "cell_type": "code",
   "execution_count": null,
   "metadata": {},
   "outputs": [],
   "source": [
    "plt.plot(np.arange(0, 51), np.mean(Ys, axis=0), lw=4)\n",
    "plt.fill_between(np.arange(0, 51),\n",
    "                 np.mean(Ys, axis=0) - 0.2 * np.std(Ys, axis=0),\n",
    "                 np.mean(Ys, axis=0) + 0.2 * np.std(Ys, axis=0),\n",
    "                 alpha=0.3)"
   ]
  },
  {
   "cell_type": "code",
   "execution_count": null,
   "metadata": {},
   "outputs": [],
   "source": []
  }
 ],
 "metadata": {
  "kernelspec": {
   "display_name": "Python 3",
   "language": "python",
   "name": "python3"
  },
  "language_info": {
   "codemirror_mode": {
    "name": "ipython",
    "version": 3
   },
   "file_extension": ".py",
   "mimetype": "text/x-python",
   "name": "python",
   "nbconvert_exporter": "python",
   "pygments_lexer": "ipython3",
   "version": "3.6.8"
  }
 },
 "nbformat": 4,
 "nbformat_minor": 2
}
